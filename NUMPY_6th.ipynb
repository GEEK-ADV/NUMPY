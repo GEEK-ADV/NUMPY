{
 "cells": [
  {
   "cell_type": "markdown",
   "id": "f0f37f6a",
   "metadata": {},
   "source": [
    "### Объекты r_ и c_\n",
    "\n",
    "Еще один способ объединения и создания массивов – это использование специальных объектов r_ и c_. Например, объект r_ создает копии массивов, следующими способами:"
   ]
  },
  {
   "cell_type": "code",
   "execution_count": 1,
   "id": "2bf0e2f2",
   "metadata": {},
   "outputs": [],
   "source": [
    "import numpy as np"
   ]
  },
  {
   "cell_type": "code",
   "execution_count": 2,
   "id": "03b58fc2",
   "metadata": {},
   "outputs": [
    {
     "name": "stdout",
     "output_type": "stream",
     "text": [
      "[1 2 3 4 5]\n",
      "[  1   2   3   4   5   6   7   8  90 100]\n",
      "[1 2 3 4 5 6]\n",
      "[[1 2 3]\n",
      " [4 5 6]\n",
      " [7 8 9]]\n"
     ]
    }
   ],
   "source": [
    "a = np.r_[ [1, 2, 3], 4, 5]  # список + дополнительные элементы\n",
    "b = np.r_[ 1:9, 90, 100] # срез + два элемента\n",
    "c = np.r_[ np.array([1,2,3]), np.array([4,5,6])] # объединение двух массивов\n",
    "d = np.r_[ [(1,2,3), (4,5,6)], [(7,8,9)] ]  # объединение двумерного и одномерного списков\n",
    "print(a, b, c, d, sep='\\n')"
   ]
  },
  {
   "cell_type": "markdown",
   "id": "6222d465",
   "metadata": {},
   "source": [
    "По аналогии работает и второй объект c_, только объединение выполняется по второй оси axis1:"
   ]
  },
  {
   "cell_type": "code",
   "execution_count": 3,
   "id": "ab71128b",
   "metadata": {},
   "outputs": [
    {
     "name": "stdout",
     "output_type": "stream",
     "text": [
      "[[1]\n",
      " [2]\n",
      " [3]\n",
      " [4]]\n",
      "[[1 4]\n",
      " [2 5]\n",
      " [3 6]]\n",
      "[[1 2 3 7]\n",
      " [4 5 6 8]]\n"
     ]
    }
   ],
   "source": [
    "e = np.c_[1:5]\n",
    "f = np.c_[ [1, 2, 3], [4, 5, 6]]\n",
    "g = np.c_[ [(1,2,3), (4,5,6)], [[7],[8]] ]\n",
    "print(e, f, g, sep='\\n')"
   ]
  },
  {
   "cell_type": "markdown",
   "id": "642d1f47",
   "metadata": {},
   "source": [
    "### Разделение массивов\n",
    "\n",
    "Массивы в NumPy можно не только объединять, но и разделять. Для этого существуют специальные функции hsplit и vsplit. Рассмотрим их работу на простых примерах. Пусть имеется одномерный массив из 10 элементов:"
   ]
  },
  {
   "cell_type": "code",
   "execution_count": 4,
   "id": "30f2a4c3",
   "metadata": {},
   "outputs": [
    {
     "data": {
      "text/plain": [
       "array([0, 1, 2, 3, 4, 5, 6, 7, 8, 9])"
      ]
     },
     "execution_count": 4,
     "metadata": {},
     "output_type": "execute_result"
    }
   ],
   "source": [
    "h = np.arange(10)\n",
    "h"
   ]
  },
  {
   "cell_type": "markdown",
   "id": "d38d7300",
   "metadata": {},
   "source": [
    "И мы хотим разделить его на две равные части. Это реализуется с помощью функции hsplit:"
   ]
  },
  {
   "cell_type": "code",
   "execution_count": 5,
   "id": "803cc5ab",
   "metadata": {},
   "outputs": [
    {
     "data": {
      "text/plain": [
       "[array([0, 1, 2, 3, 4]), array([5, 6, 7, 8, 9])]"
      ]
     },
     "execution_count": 5,
     "metadata": {},
     "output_type": "execute_result"
    }
   ],
   "source": [
    "np.hsplit(h, 2)"
   ]
  },
  {
   "cell_type": "markdown",
   "id": "18f732fa",
   "metadata": {},
   "source": [
    "которая возвращает список из двух массивов. Второй параметр 2 указывает число частей, на которые делится исходный массив. Причем, деление выполняется по горизонтали. Если в нашем примере указать 3 части, то возникнет ошибка. Также ошибка будет и при разбиении этого массива по вертикали, так как массив имеет одну горизонтальную ось. Чтобы вторая функция сработала, преобразуем массив a в вектор столбец:"
   ]
  },
  {
   "cell_type": "code",
   "execution_count": 6,
   "id": "32e1ba62",
   "metadata": {},
   "outputs": [
    {
     "data": {
      "text/plain": [
       "array([[0],\n",
       "       [1],\n",
       "       [2],\n",
       "       [3],\n",
       "       [4],\n",
       "       [5],\n",
       "       [6],\n",
       "       [7],\n",
       "       [8],\n",
       "       [9]])"
      ]
     },
     "execution_count": 6,
     "metadata": {},
     "output_type": "execute_result"
    }
   ],
   "source": [
    "h.shape = 10, -1\n",
    "h"
   ]
  },
  {
   "cell_type": "code",
   "execution_count": 7,
   "id": "275026c1",
   "metadata": {},
   "outputs": [
    {
     "data": {
      "text/plain": [
       "[array([[0],\n",
       "        [1],\n",
       "        [2],\n",
       "        [3],\n",
       "        [4]]),\n",
       " array([[5],\n",
       "        [6],\n",
       "        [7],\n",
       "        [8],\n",
       "        [9]])]"
      ]
     },
     "execution_count": 7,
     "metadata": {},
     "output_type": "execute_result"
    }
   ],
   "source": [
    "np.vsplit(h, 2)"
   ]
  },
  {
   "cell_type": "markdown",
   "id": "47989ef8",
   "metadata": {},
   "source": [
    "Эти же функции можно использовать и с многомерными массивами, например, так:"
   ]
  },
  {
   "cell_type": "code",
   "execution_count": 8,
   "id": "dd371a6d",
   "metadata": {},
   "outputs": [
    {
     "name": "stdout",
     "output_type": "stream",
     "text": [
      "[array([[0, 1, 2],\n",
      "       [6, 7, 8]]), array([[ 3,  4,  5],\n",
      "       [ 9, 10, 11]])]\n",
      "[array([[0, 1, 2, 3, 4, 5]]), array([[ 6,  7,  8,  9, 10, 11]])]\n"
     ]
    }
   ],
   "source": [
    "i = np.arange(12)\n",
    "i.resize(2, 6) # двумерный массив 2x6\n",
    " \n",
    "j = np.hsplit(i, 2) # разбиение по горизонтали\n",
    "k = np.vsplit(i, 2) # разбиение по вертикали\n",
    "print(j, k, sep='\\n')"
   ]
  },
  {
   "cell_type": "markdown",
   "id": "d698634d",
   "metadata": {},
   "source": [
    "### Функция array_split\n",
    "\n",
    "Рассмотренные функции выполняют разбиение или по первой оси axis0 или по второй оси axis1. Но что если нам нужно выполнить разбиение по произвольной оси многомерного массива? Для этого существует функция array_split(). Ее работа аналогична рассмотренным выше функциям, только дополнительно указывается ось разбиения. Например:"
   ]
  },
  {
   "cell_type": "code",
   "execution_count": 9,
   "id": "27a6b65b",
   "metadata": {},
   "outputs": [
    {
     "name": "stdout",
     "output_type": "stream",
     "text": [
      "[array([[[ 0],\n",
      "        [ 2],\n",
      "        [ 4]],\n",
      "\n",
      "       [[ 6],\n",
      "        [ 8],\n",
      "        [10]],\n",
      "\n",
      "       [[12],\n",
      "        [14],\n",
      "        [16]]]), array([[[ 1],\n",
      "        [ 3],\n",
      "        [ 5]],\n",
      "\n",
      "       [[ 7],\n",
      "        [ 9],\n",
      "        [11]],\n",
      "\n",
      "       [[13],\n",
      "        [15],\n",
      "        [17]]])]\n",
      "[array([[[0, 1],\n",
      "        [2, 3],\n",
      "        [4, 5]]]), array([[[ 6,  7],\n",
      "        [ 8,  9],\n",
      "        [10, 11]]]), array([[[12, 13],\n",
      "        [14, 15],\n",
      "        [16, 17]]])]\n",
      "[array([[[ 0,  1]],\n",
      "\n",
      "       [[ 6,  7]],\n",
      "\n",
      "       [[12, 13]]]), array([[[ 2,  3]],\n",
      "\n",
      "       [[ 8,  9]],\n",
      "\n",
      "       [[14, 15]]]), array([[[ 4,  5]],\n",
      "\n",
      "       [[10, 11]],\n",
      "\n",
      "       [[16, 17]]])]\n"
     ]
    }
   ],
   "source": [
    "l = np.arange(18)\n",
    "l.resize(3, 3, 2)\n",
    " \n",
    "m = np.array_split(l, 2, axis=2)\n",
    "n = np.array_split(l, 3, axis=0)\n",
    "o = np.array_split(l, 3, axis=1)\n",
    "print(m, n, o, sep='\\n')"
   ]
  }
 ],
 "metadata": {
  "kernelspec": {
   "display_name": "Python 3 (ipykernel)",
   "language": "python",
   "name": "python3"
  },
  "language_info": {
   "codemirror_mode": {
    "name": "ipython",
    "version": 3
   },
   "file_extension": ".py",
   "mimetype": "text/x-python",
   "name": "python",
   "nbconvert_exporter": "python",
   "pygments_lexer": "ipython3",
   "version": "3.10.4"
  }
 },
 "nbformat": 4,
 "nbformat_minor": 5
}
