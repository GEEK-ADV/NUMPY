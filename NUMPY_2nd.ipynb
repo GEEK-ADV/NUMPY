{
 "cells": [
  {
   "cell_type": "markdown",
   "id": "9c16269a",
   "metadata": {},
   "source": [
    "# Функции автозаполнения, создания матриц и числовых диапазонов\n"
   ]
  },
  {
   "cell_type": "code",
   "execution_count": 18,
   "id": "56c9ff66",
   "metadata": {},
   "outputs": [],
   "source": [
    "import numpy as np"
   ]
  },
  {
   "cell_type": "code",
   "execution_count": 21,
   "id": "ddad340c",
   "metadata": {},
   "outputs": [
    {
     "name": "stdout",
     "output_type": "stream",
     "text": [
      "[1417136732      22086          0          0  808351728      22083\n",
      "  808598528      22083         48          0]\n",
      "[[1273066905      22086]\n",
      " [         0          0]\n",
      " [        32          0]]\n"
     ]
    }
   ],
   "source": [
    "#Возвращает новый массив заданного размера и типа данных, но без определенных значений. empty(shape, …)\n",
    "a = np.empty(10, dtype='int32')\n",
    "b = np.empty((3, 2), dtype='int32')\n",
    "print(a, b, sep='\\n')"
   ]
  },
  {
   "cell_type": "code",
   "execution_count": 22,
   "id": "525d37ba",
   "metadata": {},
   "outputs": [
    {
     "name": "stdout",
     "output_type": "stream",
     "text": [
      "[[1. 0. 0. 0. 0.]\n",
      " [0. 1. 0. 0. 0.]\n",
      " [0. 0. 1. 0. 0.]\n",
      " [0. 0. 0. 1. 0.]\n",
      " [0. 0. 0. 0. 1.]]\n"
     ]
    }
   ],
   "source": [
    "#Возвращает квадратный массив размерностью nxn с единичными элементами по главной диагонали (остальные равны нулю). identity(n, …)\n",
    "c = np.identity(5)\n",
    "print(c)"
   ]
  },
  {
   "cell_type": "code",
   "execution_count": 25,
   "id": "a68864d0",
   "metadata": {},
   "outputs": [
    {
     "name": "stdout",
     "output_type": "stream",
     "text": [
      "[[1 2 3 4]]\n",
      "[[1 2 3 4]]\n",
      "[[1 2 3]\n",
      " [4 5 6]]\n"
     ]
    }
   ],
   "source": [
    "#Приводит входные данные object к матрице, если это возможно. Параметр object может быть строкой, списком или кортежем. mat(object, …)\n",
    "d = np.mat('1 2 3 4')\n",
    "e = np.mat('1, 2, 3, 4')\n",
    "f = np.mat([(1, 2, 3), (4, 5, 6)])\n",
    "print(d, e, f, sep='\\n')"
   ]
  },
  {
   "cell_type": "code",
   "execution_count": 30,
   "id": "1aaf89c2",
   "metadata": {},
   "outputs": [
    {
     "name": "stdout",
     "output_type": "stream",
     "text": [
      "[[1 0 0]\n",
      " [0 2 0]\n",
      " [0 0 3]]\n",
      "[1 5 9]\n"
     ]
    }
   ],
   "source": [
    "#Формирует диагональную матрицу на основе списка или массива NumPy. В последних версиях возвращает копию массива (а не его представление). diag(list, …)\n",
    "g = np.diag([1, 2, 3])\n",
    "h = np.diag([(1,2,3), (4,5,6), (7,8,9)])\n",
    "print(g, h, sep='\\n')"
   ]
  },
  {
   "cell_type": "code",
   "execution_count": 29,
   "id": "a820e624",
   "metadata": {},
   "outputs": [
    {
     "name": "stdout",
     "output_type": "stream",
     "text": [
      "[[1 0 0 0 0 0 0 0 0]\n",
      " [0 2 0 0 0 0 0 0 0]\n",
      " [0 0 3 0 0 0 0 0 0]\n",
      " [0 0 0 4 0 0 0 0 0]\n",
      " [0 0 0 0 5 0 0 0 0]\n",
      " [0 0 0 0 0 6 0 0 0]\n",
      " [0 0 0 0 0 0 7 0 0]\n",
      " [0 0 0 0 0 0 0 8 0]\n",
      " [0 0 0 0 0 0 0 0 9]]\n"
     ]
    }
   ],
   "source": [
    "#Формирует диагональную матрицу из списка list, который сначала сжимает до одной оси (преобразует в одномерный список или массив). diagflat(list, …)\n",
    "i = np.diagflat([(1,2,3), (4,5,6), (7,8,9)])\n",
    "print(i)"
   ]
  },
  {
   "cell_type": "code",
   "execution_count": 32,
   "id": "01d9af93",
   "metadata": {},
   "outputs": [
    {
     "name": "stdout",
     "output_type": "stream",
     "text": [
      "[[1. 0. 0. 0.]\n",
      " [1. 1. 0. 0.]\n",
      " [1. 1. 1. 0.]\n",
      " [1. 1. 1. 1.]]\n"
     ]
    }
   ],
   "source": [
    "#Создает треугольный массив NxM с единицами на главной диагонали и ниже ее. tri(N, M=None, …)\n",
    "j = np.tri(4)\n",
    "print(j)"
   ]
  },
  {
   "cell_type": "code",
   "execution_count": 34,
   "id": "6df87643",
   "metadata": {},
   "outputs": [
    {
     "name": "stdout",
     "output_type": "stream",
     "text": [
      "[[1 0 0]\n",
      " [4 5 0]\n",
      " [7 8 9]]\n"
     ]
    }
   ],
   "source": [
    "#Преобразует двумерный список или массив list в треугольную матрицу с нулевыми элементами выше главной диагонали. tril(list, …)\n",
    "k = np.array( [(1,2,3), (4,5,6), (7,8,9)] )\n",
    "print(np.tril(k))"
   ]
  },
  {
   "cell_type": "code",
   "execution_count": 36,
   "id": "72ca12b2",
   "metadata": {},
   "outputs": [
    {
     "name": "stdout",
     "output_type": "stream",
     "text": [
      "[[1 2 3]\n",
      " [0 5 6]\n",
      " [0 0 9]]\n"
     ]
    }
   ],
   "source": [
    "#Преобразует двумерный список или массив list в треугольную матрицу с нулевыми элементами ниже главной диагонали. triu(list, …)\n",
    "l = np.array( [(1,2,3), (4,5,6), (7,8,9)] )\n",
    "print(np.triu(l))"
   ]
  },
  {
   "cell_type": "code",
   "execution_count": 41,
   "id": "52fedda4",
   "metadata": {},
   "outputs": [
    {
     "name": "stdout",
     "output_type": "stream",
     "text": [
      "[[  1   1   1   1   1]\n",
      " [ 16   8   4   2   1]\n",
      " [ 81  27   9   3   1]\n",
      " [256  64  16   4   1]\n",
      " [625 125  25   5   1]]\n"
     ]
    }
   ],
   "source": [
    "#Создание матрицы Вандермонда из одномерного списка или массива list. Второй параметр N определяет число столбцов (по умолчанию формируется квадратная матрица). vander(list, N=None, …)\n",
    "m = np.vander([1,2,3,4,5])\n",
    "print(m)"
   ]
  },
  {
   "cell_type": "code",
   "execution_count": 55,
   "id": "94406c8b",
   "metadata": {},
   "outputs": [
    {
     "name": "stdout",
     "output_type": "stream",
     "text": [
      "[ 1.     2.154  4.64  10.   ]\n"
     ]
    }
   ],
   "source": [
    "#Возвращает одномерный массив с числами, равномерно распределенных по логарифмической шкале. logspace(start, stop, …)\n",
    "n = np.logspace(0, 1, 4, dtype='float16')\n",
    "print(n)"
   ]
  },
  {
   "cell_type": "code",
   "execution_count": 58,
   "id": "e6e80e43",
   "metadata": {},
   "outputs": [
    {
     "name": "stdout",
     "output_type": "stream",
     "text": [
      "[ 1.  2.  4.  8. 16.]\n"
     ]
    }
   ],
   "source": [
    "#Формирование чисел по геометрической прогрессии. geomspace(start, stop, …)\n",
    "o = np.geomspace(1, 16, 5)\n",
    "print(o)"
   ]
  }
 ],
 "metadata": {
  "kernelspec": {
   "display_name": "Python 3 (ipykernel)",
   "language": "python",
   "name": "python3"
  },
  "language_info": {
   "codemirror_mode": {
    "name": "ipython",
    "version": 3
   },
   "file_extension": ".py",
   "mimetype": "text/x-python",
   "name": "python",
   "nbconvert_exporter": "python",
   "pygments_lexer": "ipython3",
   "version": "3.10.4"
  }
 },
 "nbformat": 4,
 "nbformat_minor": 5
}
