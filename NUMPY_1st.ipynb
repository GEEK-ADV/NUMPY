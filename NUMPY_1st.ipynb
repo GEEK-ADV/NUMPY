{
 "cells": [
  {
   "cell_type": "markdown",
   "id": "f9c232c6",
   "metadata": {},
   "source": [
    "# CREATING ARRAYS"
   ]
  },
  {
   "cell_type": "code",
   "execution_count": 1,
   "id": "4dfbb708",
   "metadata": {},
   "outputs": [],
   "source": [
    "import numpy as np"
   ]
  },
  {
   "cell_type": "code",
   "execution_count": 2,
   "id": "8ea91140",
   "metadata": {
    "scrolled": true
   },
   "outputs": [
    {
     "name": "stdout",
     "output_type": "stream",
     "text": [
      "[1 2 3]\n"
     ]
    }
   ],
   "source": [
    "#One dimensional array\n",
    "a = np.array([1, 2, 3])\n",
    "print(a)"
   ]
  },
  {
   "cell_type": "code",
   "execution_count": 3,
   "id": "f0039e34",
   "metadata": {},
   "outputs": [
    {
     "name": "stdout",
     "output_type": "stream",
     "text": [
      "[[1 2 3]\n",
      " [4 5 6]]\n"
     ]
    }
   ],
   "source": [
    "#Two dimensional array\n",
    "b = np.array([(1,2,3),(4,5,6)])\n",
    "print(b)"
   ]
  },
  {
   "cell_type": "code",
   "execution_count": 4,
   "id": "c409eb83",
   "metadata": {},
   "outputs": [
    {
     "name": "stdout",
     "output_type": "stream",
     "text": [
      "[0. 0. 0.]\n"
     ]
    }
   ],
   "source": [
    "#1D array of length 3 all values 0\n",
    "c = np.zeros(3)\n",
    "print(c)"
   ]
  },
  {
   "cell_type": "code",
   "execution_count": 5,
   "id": "5d0a4b60",
   "metadata": {},
   "outputs": [
    {
     "name": "stdout",
     "output_type": "stream",
     "text": [
      "[[1. 1. 1. 1.]\n",
      " [1. 1. 1. 1.]\n",
      " [1. 1. 1. 1.]]\n"
     ]
    }
   ],
   "source": [
    "#3x4 array with all values 1\n",
    "d = np.ones((3,4))\n",
    "print(d)"
   ]
  },
  {
   "cell_type": "code",
   "execution_count": 6,
   "id": "81f80614",
   "metadata": {
    "scrolled": true
   },
   "outputs": [
    {
     "name": "stdout",
     "output_type": "stream",
     "text": [
      "[[1. 0. 0. 0. 0.]\n",
      " [0. 1. 0. 0. 0.]\n",
      " [0. 0. 1. 0. 0.]\n",
      " [0. 0. 0. 1. 0.]\n",
      " [0. 0. 0. 0. 1.]]\n"
     ]
    }
   ],
   "source": [
    "#5x5 array of 0 with 1 on diagonal(Identity matrix)\n",
    "e = np.eye(5)\n",
    "print(e)"
   ]
  },
  {
   "cell_type": "code",
   "execution_count": 7,
   "id": "336c1a8b",
   "metadata": {},
   "outputs": [
    {
     "name": "stdout",
     "output_type": "stream",
     "text": [
      "[  0.  20.  40.  60.  80. 100.]\n"
     ]
    }
   ],
   "source": [
    "#Array of 6 evenly divided values from 0 to 100\n",
    "f = np.linspace(0,100,6)\n",
    "print(f)"
   ]
  },
  {
   "cell_type": "code",
   "execution_count": 8,
   "id": "4ea9162d",
   "metadata": {},
   "outputs": [
    {
     "name": "stdout",
     "output_type": "stream",
     "text": [
      "[0 3 6 9]\n"
     ]
    }
   ],
   "source": [
    "#Array of values from 0 to less than 10 with step 3\n",
    "g = np.arange(0,10,3)\n",
    "print(g)"
   ]
  },
  {
   "cell_type": "code",
   "execution_count": 9,
   "id": "99fa6787",
   "metadata": {},
   "outputs": [
    {
     "name": "stdout",
     "output_type": "stream",
     "text": [
      "[[8 8 8]\n",
      " [8 8 8]]\n"
     ]
    }
   ],
   "source": [
    "#2x3 array with all values 8\n",
    "h = np.full((2,3),8)\n",
    "print(h)"
   ]
  },
  {
   "cell_type": "code",
   "execution_count": 10,
   "id": "794bad00",
   "metadata": {},
   "outputs": [
    {
     "name": "stdout",
     "output_type": "stream",
     "text": [
      "[[0.23269987 0.92773836 0.11749911 0.19244228 0.13539155]\n",
      " [0.20610106 0.44854759 0.37476926 0.83999218 0.30605256]\n",
      " [0.47870812 0.0137647  0.45474563 0.84286232 0.10005479]\n",
      " [0.46784998 0.09358649 0.89971452 0.84519562 0.18842793]]\n"
     ]
    }
   ],
   "source": [
    "#4x5 array of random floats between 0-1\n",
    "i = np.random.rand(4,5)\n",
    "print(i)"
   ]
  },
  {
   "cell_type": "code",
   "execution_count": 11,
   "id": "0e7f4f95",
   "metadata": {},
   "outputs": [
    {
     "name": "stdout",
     "output_type": "stream",
     "text": [
      "[[78.80075016 37.38531551 82.72036847 11.42738602 64.65410142 27.24102301\n",
      "  81.599467  ]\n",
      " [49.37642196 89.63792089 63.38912608 93.57869657 76.86993787 89.10827993\n",
      "  53.05401844]\n",
      " [33.75597593 41.53092468 14.7314642  18.91579395 95.39173027 48.22430314\n",
      "  84.78055162]\n",
      " [44.36033177 56.82616063 28.44886078  2.82020314 65.00305914 27.71116659\n",
      "  59.48810762]\n",
      " [87.42636449 72.94221481 58.92472577 78.86185241 63.76289959 57.74058201\n",
      "  11.83046659]\n",
      " [49.83993325 54.59039763  6.76089772 87.19288082 42.26668482 83.118066\n",
      "  51.37796157]]\n"
     ]
    }
   ],
   "source": [
    "#6x7 array of random floats between 0-100\n",
    "j = np.random.rand(6,7)*100\n",
    "print(j)"
   ]
  },
  {
   "cell_type": "code",
   "execution_count": 12,
   "id": "bf8cf500",
   "metadata": {},
   "outputs": [
    {
     "name": "stdout",
     "output_type": "stream",
     "text": [
      "[[4 0 4]\n",
      " [0 4 3]]\n"
     ]
    }
   ],
   "source": [
    "#2x3 array with random ints between 0-4\n",
    "k = np.random.randint(5,size=(2,3))\n",
    "print(k)"
   ]
  }
 ],
 "metadata": {
  "celltoolbar": "Raw Cell Format",
  "kernelspec": {
   "display_name": "Python 3 (ipykernel)",
   "language": "python",
   "name": "python3"
  },
  "language_info": {
   "codemirror_mode": {
    "name": "ipython",
    "version": 3
   },
   "file_extension": ".py",
   "mimetype": "text/x-python",
   "name": "python",
   "nbconvert_exporter": "python",
   "pygments_lexer": "ipython3",
   "version": "3.10.4"
  }
 },
 "nbformat": 4,
 "nbformat_minor": 5
}
