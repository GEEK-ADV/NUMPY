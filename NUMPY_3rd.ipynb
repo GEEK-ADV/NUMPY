{
 "cells": [
  {
   "cell_type": "markdown",
   "id": "f077634d",
   "metadata": {},
   "source": [
    "# Изменение формы массивов, добавление и удаление осей"
   ]
  },
  {
   "cell_type": "code",
   "execution_count": 1,
   "id": "7c2592eb",
   "metadata": {},
   "outputs": [],
   "source": [
    "import numpy as np"
   ]
  },
  {
   "cell_type": "code",
   "execution_count": 2,
   "id": "69b9fb8a",
   "metadata": {},
   "outputs": [
    {
     "name": "stdout",
     "output_type": "stream",
     "text": [
      "[0 1 2 3 4 5 6 7 8 9]\n"
     ]
    }
   ],
   "source": [
    "#Предположим, у нас имеется массив, состоящий из десяти чисел:\n",
    "a = np.arange(10)\n",
    "print(a)"
   ]
  },
  {
   "cell_type": "code",
   "execution_count": 3,
   "id": "8e6a6987",
   "metadata": {},
   "outputs": [
    {
     "name": "stdout",
     "output_type": "stream",
     "text": [
      "[[0 1 2 3 4]\n",
      " [5 6 7 8 9]]\n"
     ]
    }
   ],
   "source": [
    "#Для изменения формы этого массива, достаточно указать свойству shape кортеж с новыми размерами, например, так:\n",
    "a.shape = 2, 5\n",
    "print(a)"
   ]
  },
  {
   "cell_type": "code",
   "execution_count": 4,
   "id": "b4846e78",
   "metadata": {},
   "outputs": [
    {
     "name": "stdout",
     "output_type": "stream",
     "text": [
      "[0 1 2 3 4 5 6 7 8 9]\n"
     ]
    }
   ],
   "source": [
    "#Если же требуется создать новое представление массива, сохранив прежнее, то следует воспользоваться методом reshape():\n",
    "b = a.reshape(10)\n",
    "print(b)"
   ]
  },
  {
   "cell_type": "code",
   "execution_count": 5,
   "id": "738bb0e1",
   "metadata": {},
   "outputs": [
    {
     "name": "stdout",
     "output_type": "stream",
     "text": [
      "[[-1  1  2  3  4]\n",
      " [ 5  6  7  8  9]]\n"
     ]
    }
   ],
   "source": [
    "#Ссылки b и a будут использовать одни и те же данные, то есть, изменение массива через b:\n",
    "#Об этом всегда следует помнить.\n",
    "b[0] = -1\n",
    "print(a)"
   ]
  },
  {
   "cell_type": "code",
   "execution_count": 6,
   "id": "152c7af6",
   "metadata": {},
   "outputs": [
    {
     "name": "stdout",
     "output_type": "stream",
     "text": [
      "[[-1  1]\n",
      " [ 2  3]\n",
      " [ 4  5]\n",
      " [ 6  7]\n",
      " [ 8  9]]\n"
     ]
    }
   ],
   "source": [
    "#Также следует помнить, что у свойства shape и метода reshape() размерность должна охватывать все элементы массива.\n",
    "#Но допускается делать так(То же самое можно делать и в методе reshape()):\n",
    "a.shape = -1, 2\n",
    "print(a)"
   ]
  },
  {
   "cell_type": "code",
   "execution_count": 7,
   "id": "8f45b3a6",
   "metadata": {},
   "outputs": [
    {
     "name": "stdout",
     "output_type": "stream",
     "text": [
      "[[-1  1]\n",
      " [ 2  3]\n",
      " [ 4  5]\n",
      " [ 6  7]\n",
      " [ 8  9]]\n",
      "[-1  1  2  3  4  5  6  7  8  9]\n"
     ]
    }
   ],
   "source": [
    "#Если нам требуется многомерный массив преобразовать в обычный одномерный,\n",
    "#то можно воспользоваться методом ravel(), который возвращает новое представление, не меняя текущего:\n",
    "b = b.reshape(-1, 2)\n",
    "c = b.ravel()\n",
    "print(b, c, sep='\\n')"
   ]
  },
  {
   "cell_type": "code",
   "execution_count": 8,
   "id": "0df2537b",
   "metadata": {},
   "outputs": [
    {
     "name": "stdout",
     "output_type": "stream",
     "text": [
      "[-1  1  2  3  4  5  6  7  8  9]\n"
     ]
    }
   ],
   "source": [
    "#Если же нам нужно текущий массив преобразовать в одномерный, то это можно сделать так:\n",
    "b.shape = -1\n",
    "print(b)"
   ]
  },
  {
   "cell_type": "code",
   "execution_count": 9,
   "id": "011be5ed",
   "metadata": {},
   "outputs": [
    {
     "name": "stdout",
     "output_type": "stream",
     "text": [
      "[[-1  1  2  3  4]\n",
      " [ 5  6  7  8  9]]\n"
     ]
    }
   ],
   "source": [
    "#Помимо свойства shape можно использовать метод resize,\n",
    "#который выполняет подобную операцию с текущим массивом. Например:\n",
    "a.resize(2, 5)\n",
    "print(a)"
   ]
  },
  {
   "cell_type": "code",
   "execution_count": 10,
   "id": "5e4b5b4a",
   "metadata": {},
   "outputs": [
    {
     "name": "stdout",
     "output_type": "stream",
     "text": [
      "[[-1  1  2]\n",
      " [ 3  4  5]\n",
      " [ 6  7  8]]\n"
     ]
    }
   ],
   "source": [
    "#Mы все-таки можем выполнить такую операцию, указав дополнительно флаг refcheck=False:\n",
    "a.resize(3, 3, refcheck=False)\n",
    "print(a)"
   ]
  },
  {
   "cell_type": "code",
   "execution_count": 11,
   "id": "50c2790c",
   "metadata": {},
   "outputs": [
    {
     "name": "stdout",
     "output_type": "stream",
     "text": [
      "[[-1  1  2  3  4]\n",
      " [ 5  6  7  8  0]\n",
      " [ 0  0  0  0  0]\n",
      " [ 0  0  0  0  0]]\n"
     ]
    }
   ],
   "source": [
    "#Или так:\n",
    "a.resize(4, 5, refcheck=False)\n",
    "print(a)"
   ]
  }
 ],
 "metadata": {
  "kernelspec": {
   "display_name": "Python 3 (ipykernel)",
   "language": "python",
   "name": "python3"
  },
  "language_info": {
   "codemirror_mode": {
    "name": "ipython",
    "version": 3
   },
   "file_extension": ".py",
   "mimetype": "text/x-python",
   "name": "python",
   "nbconvert_exporter": "python",
   "pygments_lexer": "ipython3",
   "version": "3.10.4"
  }
 },
 "nbformat": 4,
 "nbformat_minor": 5
}
