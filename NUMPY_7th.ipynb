{
 "cells": [
  {
   "cell_type": "markdown",
   "id": "c7564ea1",
   "metadata": {},
   "source": [
    "# Базовые математические операции над массивами"
   ]
  },
  {
   "cell_type": "markdown",
   "id": "d1937fa1",
   "metadata": {},
   "source": [
    "Предположим, имеется обычный список и массив, созданный на его основе:"
   ]
  },
  {
   "cell_type": "code",
   "execution_count": 1,
   "id": "d6f867c6",
   "metadata": {},
   "outputs": [],
   "source": [
    "import numpy as np"
   ]
  },
  {
   "cell_type": "code",
   "execution_count": 2,
   "id": "655bd13f",
   "metadata": {},
   "outputs": [],
   "source": [
    "lst = [1, 2, 3]\n",
    "a = np.array([1, 2, 3])"
   ]
  },
  {
   "cell_type": "markdown",
   "id": "dfa8ab73",
   "metadata": {},
   "source": [
    "Сейчас вы увидите принципиальную разницу между двумя этими объектами. Умножим их на число 2:"
   ]
  },
  {
   "cell_type": "code",
   "execution_count": 3,
   "id": "a5fb5463",
   "metadata": {},
   "outputs": [
    {
     "name": "stdout",
     "output_type": "stream",
     "text": [
      "[1, 2, 3, 1, 2, 3]\n",
      "[2 4 6]\n"
     ]
    }
   ],
   "source": [
    "print(lst*2, a*2, sep='\\n')"
   ]
  },
  {
   "cell_type": "markdown",
   "id": "5d6158a1",
   "metadata": {},
   "source": [
    "Итак, с массивами NumPy мы можем выполнять все базовые математические операции:"
   ]
  },
  {
   "cell_type": "markdown",
   "id": "a282f213",
   "metadata": {},
   "source": [
    "-a # унарный минус\n",
    "\n",
    "a + 2 # сложение с числом\n",
    "\n",
    "2 + a  # так тоже можно записывать\n",
    "\n",
    "a - 3 # вычитание с числом\n",
    "\n",
    "a * 5 # умножение на число\n",
    "\n",
    "a / 5  # деление на число\n",
    "\n",
    "a // 2  # целочисленное деление\n",
    "\n",
    "a ** 3  # возведение в степень 3\n",
    "\n",
    "a % 2  # вычисление по модулю 2"
   ]
  },
  {
   "cell_type": "markdown",
   "id": "d932710f",
   "metadata": {},
   "source": [
    "Давайте теперь добавим еще один массив:"
   ]
  },
  {
   "cell_type": "code",
   "execution_count": 4,
   "id": "d647fffb",
   "metadata": {},
   "outputs": [],
   "source": [
    "b = np.array([3, 4, 5])"
   ]
  },
  {
   "cell_type": "markdown",
   "id": "aca28726",
   "metadata": {},
   "source": [
    "a - b  # array([-2, -2, -2])\n",
    "\n",
    "b + a  # array([4, 6, 8])\n",
    "\n",
    "a * b  # array([ 3,  8, 15])\n",
    "\n",
    "b / a  # array([3. , 2. , 1.66666667])\n",
    "\n",
    "b // a # array([3, 2, 1], dtype=int32)\n",
    "\n",
    "b ** a # array([  3,  16, 125], dtype=int32)\n",
    "\n",
    "b % a  # array([0, 0, 2], dtype=int32)"
   ]
  },
  {
   "cell_type": "markdown",
   "id": "80880bf3",
   "metadata": {},
   "source": [
    "Везде мы видим поэлементные операции. Соответственно, чтобы они выполнялись, массивы должны быть согласованы по длине. "
   ]
  },
  {
   "cell_type": "markdown",
   "id": "d70c13bd",
   "metadata": {},
   "source": [
    "Но вот такая операция с двумерным массивом b сработает:"
   ]
  },
  {
   "cell_type": "code",
   "execution_count": 5,
   "id": "969c7db1",
   "metadata": {},
   "outputs": [
    {
     "data": {
      "text/plain": [
       "array([[2, 4, 6],\n",
       "       [5, 7, 9]])"
      ]
     },
     "execution_count": 5,
     "metadata": {},
     "output_type": "execute_result"
    }
   ],
   "source": [
    "b = np.arange(1, 7)\n",
    "b.resize(2, 3)\n",
    "a + b"
   ]
  }
 ],
 "metadata": {
  "kernelspec": {
   "display_name": "Python 3 (ipykernel)",
   "language": "python",
   "name": "python3"
  },
  "language_info": {
   "codemirror_mode": {
    "name": "ipython",
    "version": 3
   },
   "file_extension": ".py",
   "mimetype": "text/x-python",
   "name": "python",
   "nbconvert_exporter": "python",
   "pygments_lexer": "ipython3",
   "version": "3.10.4"
  }
 },
 "nbformat": 4,
 "nbformat_minor": 5
}
