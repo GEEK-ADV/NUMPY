{
 "cells": [
  {
   "cell_type": "markdown",
   "id": "05925ce1",
   "metadata": {},
   "source": [
    "# Объединение и разделение массивов"
   ]
  },
  {
   "cell_type": "markdown",
   "id": "100da5a8",
   "metadata": {},
   "source": [
    "### Функции hstack и vstack\n",
    "\n",
    "Предположим у нас есть два двумерных массива:"
   ]
  },
  {
   "cell_type": "code",
   "execution_count": 1,
   "id": "e42479e9",
   "metadata": {},
   "outputs": [],
   "source": [
    "import numpy as np"
   ]
  },
  {
   "cell_type": "code",
   "execution_count": 2,
   "id": "36674217",
   "metadata": {},
   "outputs": [
    {
     "name": "stdout",
     "output_type": "stream",
     "text": [
      "[[1 2]\n",
      " [3 4]]\n",
      "[[5 6]\n",
      " [7 8]]\n"
     ]
    }
   ],
   "source": [
    "a = np.array([(1, 2), (3, 4)])\n",
    "b = np.array([(5, 6), (7, 8)])\n",
    "print(a, b, sep='\\n')"
   ]
  },
  {
   "cell_type": "markdown",
   "id": "ab9ae2fa",
   "metadata": {},
   "source": [
    "Их можно объединить как по горизонтали, так и по вертикали, с помощью функций:"
   ]
  },
  {
   "cell_type": "code",
   "execution_count": 3,
   "id": "49323bab",
   "metadata": {},
   "outputs": [
    {
     "name": "stdout",
     "output_type": "stream",
     "text": [
      "[[1 2 5 6]\n",
      " [3 4 7 8]]\n",
      "[[1 2]\n",
      " [3 4]\n",
      " [5 6]\n",
      " [7 8]]\n"
     ]
    }
   ],
   "source": [
    "c = np.hstack([a, b])    # объединение по оси axis1 (размерность 2x4)\n",
    "d = np.vstack([a, b])    # объединение по оси axis0 (размерность 4x2)\n",
    "print(c, d, sep='\\n')"
   ]
  },
  {
   "cell_type": "markdown",
   "id": "1b7bb2c9",
   "metadata": {},
   "source": [
    "Эти же операции можно выполнять и с многомерными массивами. Например, определим два трехмерных массива:"
   ]
  },
  {
   "cell_type": "code",
   "execution_count": 4,
   "id": "ad48760d",
   "metadata": {},
   "outputs": [
    {
     "name": "stdout",
     "output_type": "stream",
     "text": [
      "[[[ 0  1]\n",
      "  [ 2  3]\n",
      "  [ 4  5]]\n",
      "\n",
      " [[ 6  7]\n",
      "  [ 8  9]\n",
      "  [10 11]]\n",
      "\n",
      " [[12 13]\n",
      "  [14 15]\n",
      "  [16 17]]]\n",
      "[[[18 19]\n",
      "  [20 21]\n",
      "  [22 23]]\n",
      "\n",
      " [[24 25]\n",
      "  [26 27]\n",
      "  [28 29]]\n",
      "\n",
      " [[30 31]\n",
      "  [32 33]\n",
      "  [34 35]]]\n"
     ]
    }
   ],
   "source": [
    "e = np.fromiter(range(18), dtype='int32')\n",
    "f = np.fromiter(range(18, 36), dtype='int32')\n",
    "e.resize(3, 3, 2)\n",
    "f.resize(3, 3, 2)\n",
    "print(e, f, sep='\\n')"
   ]
  },
  {
   "cell_type": "markdown",
   "id": "4f089656",
   "metadata": {},
   "source": [
    "И выполним функции:"
   ]
  },
  {
   "cell_type": "code",
   "execution_count": 5,
   "id": "a7df8fb2",
   "metadata": {},
   "outputs": [
    {
     "name": "stdout",
     "output_type": "stream",
     "text": [
      "[[[ 0  1]\n",
      "  [ 2  3]\n",
      "  [ 4  5]\n",
      "  [18 19]\n",
      "  [20 21]\n",
      "  [22 23]]\n",
      "\n",
      " [[ 6  7]\n",
      "  [ 8  9]\n",
      "  [10 11]\n",
      "  [24 25]\n",
      "  [26 27]\n",
      "  [28 29]]\n",
      "\n",
      " [[12 13]\n",
      "  [14 15]\n",
      "  [16 17]\n",
      "  [30 31]\n",
      "  [32 33]\n",
      "  [34 35]]]\n",
      "[[[ 0  1]\n",
      "  [ 2  3]\n",
      "  [ 4  5]]\n",
      "\n",
      " [[ 6  7]\n",
      "  [ 8  9]\n",
      "  [10 11]]\n",
      "\n",
      " [[12 13]\n",
      "  [14 15]\n",
      "  [16 17]]\n",
      "\n",
      " [[18 19]\n",
      "  [20 21]\n",
      "  [22 23]]\n",
      "\n",
      " [[24 25]\n",
      "  [26 27]\n",
      "  [28 29]]\n",
      "\n",
      " [[30 31]\n",
      "  [32 33]\n",
      "  [34 35]]]\n"
     ]
    }
   ],
   "source": [
    "g = np.hstack([e, f])  # размерность 3x6x2\n",
    "h = np.vstack([e, f])  # размерность 6x3x2\n",
    "print(g, h, sep='\\n')"
   ]
  },
  {
   "cell_type": "markdown",
   "id": "bff0ac6c",
   "metadata": {},
   "source": [
    "Как видите, здесь произошло формальное объединение по оси axis1 в функции hstack и по оси axis0 в функции vstack.\n",
    "\n",
    "Разумеется, чтобы эти функции работали, размерность массивов по объединяемым осям должны совпадать.\n",
    "\n",
    "Аналогичным образом происходит объединение и одномерных массивов:"
   ]
  },
  {
   "cell_type": "code",
   "execution_count": 6,
   "id": "f9071012",
   "metadata": {},
   "outputs": [
    {
     "name": "stdout",
     "output_type": "stream",
     "text": [
      "[1. 2. 3. 4. 5. 6. 7. 8.]\n",
      "[[1. 2. 3. 4.]\n",
      " [5. 6. 7. 8.]]\n"
     ]
    }
   ],
   "source": [
    "i = np.fromstring('1 2 3 4', sep = ' ')\n",
    "j = np.fromstring('5 6 7 8', sep = ' ')\n",
    "k = np.hstack([i, j])\n",
    "l = np.vstack([i, j])\n",
    "print(k, l, sep='\\n')"
   ]
  },
  {
   "cell_type": "markdown",
   "id": "59b6a550",
   "metadata": {},
   "source": [
    "### Функции column_stack и row_stack\n",
    "\n",
    "Давайте теперь зададимся вопросом: как объединить наши два одномерных массива столбцами?\n",
    "Для этого хорошо подходит функция column_stack():"
   ]
  },
  {
   "cell_type": "code",
   "execution_count": 7,
   "id": "0eccf449",
   "metadata": {},
   "outputs": [
    {
     "name": "stdout",
     "output_type": "stream",
     "text": [
      "[[1. 5.]\n",
      " [2. 6.]\n",
      " [3. 7.]\n",
      " [4. 8.]]\n"
     ]
    }
   ],
   "source": [
    "print(np.column_stack([i, j]))"
   ]
  },
  {
   "cell_type": "markdown",
   "id": "1c33a60a",
   "metadata": {},
   "source": [
    "Если с ее помощью объединять двумерные и многомерные массивы, то она будет давать тот же результат, что и функция hstack().\n",
    "\n",
    "Другая аналогичная функция row_stack(), в принципе, делает то же самое, что и функция vstack() заметных отличий здесь нет. Ее можно использовать так:"
   ]
  },
  {
   "cell_type": "code",
   "execution_count": 8,
   "id": "5cc31af7",
   "metadata": {},
   "outputs": [
    {
     "name": "stdout",
     "output_type": "stream",
     "text": [
      "[[1. 2. 3. 4.]\n",
      " [5. 6. 7. 8.]]\n"
     ]
    }
   ],
   "source": [
    "print(np.row_stack([i, j]))"
   ]
  },
  {
   "cell_type": "markdown",
   "id": "bf33efbc",
   "metadata": {},
   "source": [
    "### Функция concatenate\n",
    "\n",
    "Для объединения массивов вдоль строго определенной оси можно воспользоваться функцией concatenate(). Например, возьмем два трехмерных массива:"
   ]
  },
  {
   "cell_type": "code",
   "execution_count": 9,
   "id": "d376ef5a",
   "metadata": {},
   "outputs": [
    {
     "name": "stdout",
     "output_type": "stream",
     "text": [
      "[[[ 1  2]\n",
      "  [ 3  4]\n",
      "  [ 5  6]]\n",
      "\n",
      " [[ 7  8]\n",
      "  [ 9 10]\n",
      "  [11 12]]\n",
      "\n",
      " [[ 0  0]\n",
      "  [ 0  0]\n",
      "  [ 0  0]]]\n",
      "[[[13 14]\n",
      "  [15 16]\n",
      "  [17 18]]\n",
      "\n",
      " [[19 20]\n",
      "  [21 22]\n",
      "  [23 24]]\n",
      "\n",
      " [[ 0  0]\n",
      "  [ 0  0]\n",
      "  [ 0  0]]]\n"
     ]
    }
   ],
   "source": [
    "m = np.arange(1, 13)\n",
    "n = np.arange(13, 25)\n",
    "m.resize(3, 3, 2)\n",
    "n.resize(3, 3, 2)\n",
    "print(m, n, sep='\\n')"
   ]
  },
  {
   "cell_type": "markdown",
   "id": "391e1d53",
   "metadata": {},
   "source": [
    "И объединим их по каждой из осей:"
   ]
  },
  {
   "cell_type": "code",
   "execution_count": 10,
   "id": "ae28390f",
   "metadata": {},
   "outputs": [
    {
     "name": "stdout",
     "output_type": "stream",
     "text": [
      "[[[ 1  2]\n",
      "  [ 3  4]\n",
      "  [ 5  6]]\n",
      "\n",
      " [[ 7  8]\n",
      "  [ 9 10]\n",
      "  [11 12]]\n",
      "\n",
      " [[ 0  0]\n",
      "  [ 0  0]\n",
      "  [ 0  0]]\n",
      "\n",
      " [[13 14]\n",
      "  [15 16]\n",
      "  [17 18]]\n",
      "\n",
      " [[19 20]\n",
      "  [21 22]\n",
      "  [23 24]]\n",
      "\n",
      " [[ 0  0]\n",
      "  [ 0  0]\n",
      "  [ 0  0]]]\n",
      "[[[ 1  2]\n",
      "  [ 3  4]\n",
      "  [ 5  6]\n",
      "  [13 14]\n",
      "  [15 16]\n",
      "  [17 18]]\n",
      "\n",
      " [[ 7  8]\n",
      "  [ 9 10]\n",
      "  [11 12]\n",
      "  [19 20]\n",
      "  [21 22]\n",
      "  [23 24]]\n",
      "\n",
      " [[ 0  0]\n",
      "  [ 0  0]\n",
      "  [ 0  0]\n",
      "  [ 0  0]\n",
      "  [ 0  0]\n",
      "  [ 0  0]]]\n",
      "[[[ 1  2 13 14]\n",
      "  [ 3  4 15 16]\n",
      "  [ 5  6 17 18]]\n",
      "\n",
      " [[ 7  8 19 20]\n",
      "  [ 9 10 21 22]\n",
      "  [11 12 23 24]]\n",
      "\n",
      " [[ 0  0  0  0]\n",
      "  [ 0  0  0  0]\n",
      "  [ 0  0  0  0]]]\n"
     ]
    }
   ],
   "source": [
    "c0 = np.concatenate([m, n], axis=0) # размерность 6x3x2\n",
    "c1 = np.concatenate([m, n], axis=1) # размерность 3x6x2\n",
    "c2 = np.concatenate([m, n], axis=2) # размерность 3x3x4\n",
    "print(c0, c1, c2, sep='\\n')"
   ]
  }
 ],
 "metadata": {
  "kernelspec": {
   "display_name": "Python 3 (ipykernel)",
   "language": "python",
   "name": "python3"
  },
  "language_info": {
   "codemirror_mode": {
    "name": "ipython",
    "version": 3
   },
   "file_extension": ".py",
   "mimetype": "text/x-python",
   "name": "python",
   "nbconvert_exporter": "python",
   "pygments_lexer": "ipython3",
   "version": "3.10.4"
  }
 },
 "nbformat": 4,
 "nbformat_minor": 5
}
