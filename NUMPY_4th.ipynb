{
 "cells": [
  {
   "cell_type": "markdown",
   "id": "91d3f010",
   "metadata": {},
   "source": [
    "# Транспонирование матриц и векторов"
   ]
  },
  {
   "cell_type": "code",
   "execution_count": 1,
   "id": "e21ad84b",
   "metadata": {},
   "outputs": [],
   "source": [
    "import numpy as np"
   ]
  },
  {
   "cell_type": "code",
   "execution_count": 2,
   "id": "8525ff20",
   "metadata": {},
   "outputs": [
    {
     "name": "stdout",
     "output_type": "stream",
     "text": [
      "[[ 1  1  1]\n",
      " [ 2  4  8]\n",
      " [ 3  9 27]]\n"
     ]
    }
   ],
   "source": [
    "#Очень часто в математических операциях требуется выполнять транспонирование матриц и векторов,\n",
    "#то есть, заменять строки на столбцы. Например, если имеется матрица (двумерный массив),\n",
    "#то операция транспонирования может быть реализована так:\n",
    "a = np.array([(1, 2, 3), (1, 4, 9), (1, 8, 27)])\n",
    "b = a.T\n",
    "print(b)"
   ]
  },
  {
   "cell_type": "code",
   "execution_count": 3,
   "id": "8938cae7",
   "metadata": {},
   "outputs": [
    {
     "name": "stdout",
     "output_type": "stream",
     "text": [
      "[1 2 3 4 5 6 7 8 9]\n"
     ]
    }
   ],
   "source": [
    "#Транспонирование векторов работает несколько иначе. Предположим, имеется одномерный массив:\n",
    "x = np.arange(1, 10)\n",
    "#и мы выполняем операцию транспонирования:\n",
    "x = x.T\n",
    "print(x)"
   ]
  },
  {
   "cell_type": "markdown",
   "id": "330a41dc",
   "metadata": {},
   "source": [
    "В результате ничего не изменилось: вектор как был строкой, так строкой и остался. Почему? Дело в том, что массив x имеет только одну размерность, поэтому здесь нет понятия строк и столбцов. Соответственно, операция транспонирования ни к чему не приводит. Чтобы получить ожидаемый эффект, нужно добавить к массиву еще одну ось."
   ]
  },
  {
   "cell_type": "markdown",
   "id": "726f6bc7",
   "metadata": {},
   "source": [
    "# Добавление и удаление осей\n",
    "Часто при работе с массивами NumPy требуется добавлять новые оси измерений и удалять существующие. Есть множество способов выполнять эти операции, но мы рассмотрим два наиболее распространенных с помощью функций:\n",
    "\n",
    "np.expand_dims(a, axis) – добавление новой оси;\n",
    "\n",
    "np.squeeze(a[, axis]) – удаление оси (без удаления элементов)."
   ]
  },
  {
   "cell_type": "code",
   "execution_count": 4,
   "id": "d00cf62a",
   "metadata": {},
   "outputs": [
    {
     "name": "stdout",
     "output_type": "stream",
     "text": [
      "[[[ 0  1]\n",
      "  [ 2  3]]\n",
      "\n",
      " [[ 4  5]\n",
      "  [ 6  7]]\n",
      "\n",
      " [[ 8  9]\n",
      "  [10 11]]\n",
      "\n",
      " [[12 13]\n",
      "  [14 15]]\n",
      "\n",
      " [[16 17]\n",
      "  [18 19]]\n",
      "\n",
      " [[20 21]\n",
      "  [22 23]]\n",
      "\n",
      " [[24 25]\n",
      "  [26 27]]\n",
      "\n",
      " [[28 29]\n",
      "  [30 31]]]\n"
     ]
    }
   ],
   "source": [
    "#Давайте предположим, что у нас имеется некий многомерный массив:\n",
    "x_test = np.arange(32).reshape(8, 2, 2)\n",
    "print(x_test)"
   ]
  },
  {
   "cell_type": "markdown",
   "id": "88732193",
   "metadata": {},
   "source": [
    "И нам потребовалось добавить еще одно измерение (ось), причем, в самое начало, то есть, ось axis0. Сейчас на этой оси 8 элементов – матриц 2x2, но мы хотим сделать четырехмерный массив, сохранив остальные три оси и их данные без изменений. Как раз это достаточно просто сделать с помощью функции expand_dims, следующим образом:"
   ]
  },
  {
   "cell_type": "code",
   "execution_count": 5,
   "id": "229ea668",
   "metadata": {},
   "outputs": [
    {
     "data": {
      "text/plain": [
       "(1, 8, 2, 2)"
      ]
     },
     "execution_count": 5,
     "metadata": {},
     "output_type": "execute_result"
    }
   ],
   "source": [
    "x_test4 = np.expand_dims(x_test, axis=0)\n",
    "x_test4.shape"
   ]
  },
  {
   "cell_type": "markdown",
   "id": "fe56f9b1",
   "metadata": {},
   "source": [
    "Видим, что массив стал четырехмерным и первая добавленная ось axis0 содержит один элемент – трехмерный массив 8x2x2. При необходимости, мы всегда можем добавить новый элемент на эту ось:"
   ]
  },
  {
   "cell_type": "code",
   "execution_count": 6,
   "id": "43400b98",
   "metadata": {},
   "outputs": [
    {
     "data": {
      "text/plain": [
       "(2, 8, 2, 2)"
      ]
     },
     "execution_count": 6,
     "metadata": {},
     "output_type": "execute_result"
    }
   ],
   "source": [
    "c = np.append(x_test4, x_test4, axis=0)\n",
    "c.shape"
   ]
  },
  {
   "cell_type": "markdown",
   "id": "4cd4b122",
   "metadata": {},
   "source": [
    "или удалить ненужные элементы:"
   ]
  },
  {
   "cell_type": "code",
   "execution_count": 7,
   "id": "5cc843e3",
   "metadata": {},
   "outputs": [
    {
     "data": {
      "text/plain": [
       "(1, 8, 2, 2)"
      ]
     },
     "execution_count": 7,
     "metadata": {},
     "output_type": "execute_result"
    }
   ],
   "source": [
    "d = np.delete(c, 0, axis=0) #Здесь второй параметр 0 – индекс удаляемого элемента на оси axis0.\n",
    "d.shape"
   ]
  },
  {
   "cell_type": "markdown",
   "id": "ad002896",
   "metadata": {},
   "source": [
    "Если нам нужно добавить последнюю ось в массиве, то для этого можно записать такую команду:"
   ]
  },
  {
   "cell_type": "code",
   "execution_count": 8,
   "id": "446337a1",
   "metadata": {},
   "outputs": [
    {
     "data": {
      "text/plain": [
       "(1, 8, 2, 2, 1)"
      ]
     },
     "execution_count": 8,
     "metadata": {},
     "output_type": "execute_result"
    }
   ],
   "source": [
    "d = np.expand_dims(x_test4, axis=-1)\n",
    "d.shape"
   ]
  },
  {
   "cell_type": "markdown",
   "id": "e4eb5487",
   "metadata": {},
   "source": [
    "Следующая функция squeeze позволяет удалить все оси с одним элементом. Например, строчка:"
   ]
  },
  {
   "cell_type": "code",
   "execution_count": 9,
   "id": "f01f20cd",
   "metadata": {},
   "outputs": [
    {
     "data": {
      "text/plain": [
       "(8, 2, 2)"
      ]
     },
     "execution_count": 9,
     "metadata": {},
     "output_type": "execute_result"
    }
   ],
   "source": [
    "e = np.squeeze(d)\n",
    "e.shape"
   ]
  },
  {
   "cell_type": "markdown",
   "id": "30f90ec0",
   "metadata": {},
   "source": [
    "При необходимости, дополнительно мы можем самостоятельно указать оси, которые следует удалять.\n",
    "Но, если указать ось с числом элементов больше 1, то возникнет ошибка."
   ]
  },
  {
   "cell_type": "markdown",
   "id": "0984e07a",
   "metadata": {},
   "source": [
    "# Объект newaxis\n",
    "В NumPy добавлять новые оси иногда удобнее с помощью специального объекта np.newaxis. Например, пусть у нас есть одномерный массив:"
   ]
  },
  {
   "cell_type": "code",
   "execution_count": 10,
   "id": "56294455",
   "metadata": {},
   "outputs": [
    {
     "name": "stdout",
     "output_type": "stream",
     "text": [
      "[1 2 3 4 5 6 7 8 9]\n"
     ]
    }
   ],
   "source": [
    "f = np.arange(1, 10)\n",
    "print(f)"
   ]
  },
  {
   "cell_type": "markdown",
   "id": "0cfbec4c",
   "metadata": {},
   "source": [
    "У него одна ось – одно измерение. Добавим еще одну ось, допустим, в начало. С помощью объекта np.newaxis это можно сделать так:"
   ]
  },
  {
   "cell_type": "code",
   "execution_count": 11,
   "id": "b010ee38",
   "metadata": {},
   "outputs": [
    {
     "name": "stdout",
     "output_type": "stream",
     "text": [
      "[[1 2 3 4 5 6 7 8 9]]\n",
      "(1, 9)\n"
     ]
    }
   ],
   "source": [
    "g = f[np.newaxis, :]\n",
    "print(g, g.shape, sep='\\n')"
   ]
  },
  {
   "cell_type": "markdown",
   "id": "7436f761",
   "metadata": {},
   "source": [
    "Или, можно прописать сразу две оси:"
   ]
  },
  {
   "cell_type": "code",
   "execution_count": 12,
   "id": "4ef32d55",
   "metadata": {},
   "outputs": [
    {
     "name": "stdout",
     "output_type": "stream",
     "text": [
      "[[[1]\n",
      "  [2]\n",
      "  [3]\n",
      "  [4]\n",
      "  [5]\n",
      "  [6]\n",
      "  [7]\n",
      "  [8]\n",
      "  [9]]]\n",
      "(1, 9, 1)\n"
     ]
    }
   ],
   "source": [
    "h = f[np.newaxis, :, np.newaxis]\n",
    "print(h, h.shape, sep='\\n')"
   ]
  }
 ],
 "metadata": {
  "kernelspec": {
   "display_name": "Python 3 (ipykernel)",
   "language": "python",
   "name": "python3"
  },
  "language_info": {
   "codemirror_mode": {
    "name": "ipython",
    "version": 3
   },
   "file_extension": ".py",
   "mimetype": "text/x-python",
   "name": "python",
   "nbconvert_exporter": "python",
   "pygments_lexer": "ipython3",
   "version": "3.10.4"
  }
 },
 "nbformat": 4,
 "nbformat_minor": 5
}
